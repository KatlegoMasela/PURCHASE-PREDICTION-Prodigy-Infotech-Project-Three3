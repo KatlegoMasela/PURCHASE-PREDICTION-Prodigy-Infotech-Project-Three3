{
 "cells": [
  {
   "cell_type": "markdown",
   "id": "9b577f22",
   "metadata": {},
   "source": [
    "# PURCHASE PREDICTION USING DECISION TREE CLASSIFIER"
   ]
  },
  {
   "cell_type": "markdown",
   "id": "1aea67de",
   "metadata": {},
   "source": [
    "1. Project Overview\n",
    "\n",
    "This project aims to predict whether a customr will make a purchase based on their demographic and behavioral data.\n",
    "By laveraging ML techniques, specifically Decision Tree Classifier, this model will help businesses understand customer \n",
    "behaviour and tailor their marketing efforts accordingly.\n",
    "\n",
    "2. Problem Statement\n",
    "\n",
    "Predicting customer purchase behaviour is crucial for opimtimizing marketing strategies and improving customer experience.\n",
    "Given the historical customer data, i need to classify whether a customer will purchase a product or not based on their \n",
    "demographic and behavioral attributes.\n",
    "\n",
    "\n",
    "\n",
    "\n",
    "##LANGUAGES AND LIBRARIES USED TO COMPLETE THIS PROJECT:\n",
    "\n",
    "1. Python - Programming\n",
    "2. Pandas and Numpy - Data manipulation\n",
    "3. Matplotlib and Seaborn - Data visualization\n",
    "4. Scikit-learn - Machine learning Model Development"
   ]
  },
  {
   "cell_type": "code",
   "execution_count": null,
   "id": "17991ef4",
   "metadata": {},
   "outputs": [],
   "source": []
  },
  {
   "cell_type": "markdown",
   "id": "8a24a062",
   "metadata": {},
   "source": [
    "### IMPORTING RELEVANT LIBRARIES"
   ]
  },
  {
   "cell_type": "code",
   "execution_count": 79,
   "id": "6e97f582",
   "metadata": {},
   "outputs": [],
   "source": [
    "import pandas as pd\n",
    "import numpy as np\n",
    "import seaborn as sns\n",
    "import matplotlib.pyplot as plt\n",
    "\n",
    "from sklearn.tree import DecisionTreeClassifier\n",
    "from sklearn.model_selection import GridSearchCV, train_test_split\n",
    "\n",
    "from sklearn.metrics import accuracy_score, confusion_matrix\n",
    "from sklearn.metrics import classification_report, roc_curve, auc\n",
    "from sklearn.preprocessing import StandardScaler, LabelEncoder"
   ]
  },
  {
   "cell_type": "markdown",
   "id": "e35e9e27",
   "metadata": {},
   "source": [
    "### DATA PREPARATION"
   ]
  },
  {
   "cell_type": "code",
   "execution_count": 80,
   "id": "78d8335c",
   "metadata": {},
   "outputs": [],
   "source": [
    "#LOAD(READ) THE DATASET\n",
    "Customers = pd.read_csv(\"bank-full.csv\", delimiter=';')"
   ]
  },
  {
   "cell_type": "code",
   "execution_count": 81,
   "id": "9371583c",
   "metadata": {},
   "outputs": [
    {
     "name": "stdout",
     "output_type": "stream",
     "text": [
      "   age           job  marital  education default  balance housing loan  \\\n",
      "0   58    management  married   tertiary      no     2143     yes   no   \n",
      "1   44    technician   single  secondary      no       29     yes   no   \n",
      "2   33  entrepreneur  married  secondary      no        2     yes  yes   \n",
      "3   47   blue-collar  married    unknown      no     1506     yes   no   \n",
      "4   33       unknown   single    unknown      no        1      no   no   \n",
      "\n",
      "   contact  day month  duration  campaign  pdays  previous poutcome   y  \n",
      "0  unknown    5   may       261         1     -1         0  unknown  no  \n",
      "1  unknown    5   may       151         1     -1         0  unknown  no  \n",
      "2  unknown    5   may        76         1     -1         0  unknown  no  \n",
      "3  unknown    5   may        92         1     -1         0  unknown  no  \n",
      "4  unknown    5   may       198         1     -1         0  unknown  no  \n"
     ]
    }
   ],
   "source": [
    "#DISPLAYING FIRST 5 ROWS OF THE DATASET\n",
    "print(Customers.head())"
   ]
  },
  {
   "cell_type": "code",
   "execution_count": 82,
   "id": "6fafbb5e",
   "metadata": {},
   "outputs": [
    {
     "name": "stdout",
     "output_type": "stream",
     "text": [
      "       age           job   marital  education default  balance housing loan  \\\n",
      "45206   51    technician   married   tertiary      no      825      no   no   \n",
      "45207   71       retired  divorced    primary      no     1729      no   no   \n",
      "45208   72       retired   married  secondary      no     5715      no   no   \n",
      "45209   57   blue-collar   married  secondary      no      668      no   no   \n",
      "45210   37  entrepreneur   married  secondary      no     2971      no   no   \n",
      "\n",
      "         contact  day month  duration  campaign  pdays  previous poutcome    y  \n",
      "45206   cellular   17   nov       977         3     -1         0  unknown  yes  \n",
      "45207   cellular   17   nov       456         2     -1         0  unknown  yes  \n",
      "45208   cellular   17   nov      1127         5    184         3  success  yes  \n",
      "45209  telephone   17   nov       508         4     -1         0  unknown   no  \n",
      "45210   cellular   17   nov       361         2    188        11    other   no  \n"
     ]
    }
   ],
   "source": [
    "#DISPLAYING LAST 5 ROWS OF THE DATASET\n",
    "print(Customers.tail())"
   ]
  },
  {
   "cell_type": "code",
   "execution_count": 83,
   "id": "08190a42",
   "metadata": {},
   "outputs": [
    {
     "name": "stdout",
     "output_type": "stream",
     "text": [
      "                age        balance           day      duration      campaign  \\\n",
      "count  45211.000000   45211.000000  45211.000000  45211.000000  45211.000000   \n",
      "mean      40.936210    1362.272058     15.806419    258.163080      2.763841   \n",
      "std       10.618762    3044.765829      8.322476    257.527812      3.098021   \n",
      "min       18.000000   -8019.000000      1.000000      0.000000      1.000000   \n",
      "25%       33.000000      72.000000      8.000000    103.000000      1.000000   \n",
      "50%       39.000000     448.000000     16.000000    180.000000      2.000000   \n",
      "75%       48.000000    1428.000000     21.000000    319.000000      3.000000   \n",
      "max       95.000000  102127.000000     31.000000   4918.000000     63.000000   \n",
      "\n",
      "              pdays      previous  \n",
      "count  45211.000000  45211.000000  \n",
      "mean      40.197828      0.580323  \n",
      "std      100.128746      2.303441  \n",
      "min       -1.000000      0.000000  \n",
      "25%       -1.000000      0.000000  \n",
      "50%       -1.000000      0.000000  \n",
      "75%       -1.000000      0.000000  \n",
      "max      871.000000    275.000000  \n"
     ]
    }
   ],
   "source": [
    "#DISPLAYING THE SHAPE AND SUMMARY STATS OF THE DATASET\n",
    "Customers.shape\n",
    "print(Customers.describe())"
   ]
  },
  {
   "cell_type": "code",
   "execution_count": 84,
   "id": "2469946a",
   "metadata": {},
   "outputs": [
    {
     "data": {
      "text/plain": [
       "age          0\n",
       "job          0\n",
       "marital      0\n",
       "education    0\n",
       "default      0\n",
       "balance      0\n",
       "housing      0\n",
       "loan         0\n",
       "contact      0\n",
       "day          0\n",
       "month        0\n",
       "duration     0\n",
       "campaign     0\n",
       "pdays        0\n",
       "previous     0\n",
       "poutcome     0\n",
       "y            0\n",
       "dtype: int64"
      ]
     },
     "execution_count": 84,
     "metadata": {},
     "output_type": "execute_result"
    }
   ],
   "source": [
    "#HANDLING MISSING DATA\n",
    "Customers.isnull().sum()"
   ]
  },
  {
   "cell_type": "code",
   "execution_count": 85,
   "id": "bf43881d",
   "metadata": {},
   "outputs": [
    {
     "name": "stdout",
     "output_type": "stream",
     "text": [
      "Duplicates:\n",
      " Empty DataFrame\n",
      "Columns: [age, job, marital, education, default, balance, housing, loan, contact, day, month, duration, campaign, pdays, previous, poutcome, y]\n",
      "Index: []\n"
     ]
    }
   ],
   "source": [
    "#HANDLING DUPLICATES\n",
    "duplicates = Customers[Customers.duplicated()]\n",
    "print(\"Duplicates:\\n\", duplicates)"
   ]
  },
  {
   "cell_type": "code",
   "execution_count": 86,
   "id": "8a38aa6c",
   "metadata": {},
   "outputs": [
    {
     "name": "stdout",
     "output_type": "stream",
     "text": [
      "Dataset after removing duplicates:\n",
      "        age           job   marital  education default  balance housing loan  \\\n",
      "0       58    management   married   tertiary      no     2143     yes   no   \n",
      "1       44    technician    single  secondary      no       29     yes   no   \n",
      "2       33  entrepreneur   married  secondary      no        2     yes  yes   \n",
      "3       47   blue-collar   married    unknown      no     1506     yes   no   \n",
      "4       33       unknown    single    unknown      no        1      no   no   \n",
      "...    ...           ...       ...        ...     ...      ...     ...  ...   \n",
      "45206   51    technician   married   tertiary      no      825      no   no   \n",
      "45207   71       retired  divorced    primary      no     1729      no   no   \n",
      "45208   72       retired   married  secondary      no     5715      no   no   \n",
      "45209   57   blue-collar   married  secondary      no      668      no   no   \n",
      "45210   37  entrepreneur   married  secondary      no     2971      no   no   \n",
      "\n",
      "         contact  day month  duration  campaign  pdays  previous poutcome    y  \n",
      "0        unknown    5   may       261         1     -1         0  unknown   no  \n",
      "1        unknown    5   may       151         1     -1         0  unknown   no  \n",
      "2        unknown    5   may        76         1     -1         0  unknown   no  \n",
      "3        unknown    5   may        92         1     -1         0  unknown   no  \n",
      "4        unknown    5   may       198         1     -1         0  unknown   no  \n",
      "...          ...  ...   ...       ...       ...    ...       ...      ...  ...  \n",
      "45206   cellular   17   nov       977         3     -1         0  unknown  yes  \n",
      "45207   cellular   17   nov       456         2     -1         0  unknown  yes  \n",
      "45208   cellular   17   nov      1127         5    184         3  success  yes  \n",
      "45209  telephone   17   nov       508         4     -1         0  unknown   no  \n",
      "45210   cellular   17   nov       361         2    188        11    other   no  \n",
      "\n",
      "[45211 rows x 17 columns]\n"
     ]
    }
   ],
   "source": [
    "Customers_no_duplicates = Customers.drop_duplicates()\n",
    "print(\"Dataset after removing duplicates:\\n\", Customers_no_duplicates)"
   ]
  },
  {
   "cell_type": "code",
   "execution_count": 87,
   "id": "17556681",
   "metadata": {},
   "outputs": [
    {
     "data": {
      "text/html": [
       "<div>\n",
       "<style scoped>\n",
       "    .dataframe tbody tr th:only-of-type {\n",
       "        vertical-align: middle;\n",
       "    }\n",
       "\n",
       "    .dataframe tbody tr th {\n",
       "        vertical-align: top;\n",
       "    }\n",
       "\n",
       "    .dataframe thead th {\n",
       "        text-align: right;\n",
       "    }\n",
       "</style>\n",
       "<table border=\"1\" class=\"dataframe\">\n",
       "  <thead>\n",
       "    <tr style=\"text-align: right;\">\n",
       "      <th></th>\n",
       "      <th>age</th>\n",
       "      <th>balance</th>\n",
       "      <th>day</th>\n",
       "      <th>duration</th>\n",
       "      <th>campaign</th>\n",
       "      <th>pdays</th>\n",
       "      <th>previous</th>\n",
       "      <th>[col]_encoded</th>\n",
       "    </tr>\n",
       "  </thead>\n",
       "  <tbody>\n",
       "    <tr>\n",
       "      <th>0</th>\n",
       "      <td>58</td>\n",
       "      <td>2143</td>\n",
       "      <td>5</td>\n",
       "      <td>261</td>\n",
       "      <td>1</td>\n",
       "      <td>-1</td>\n",
       "      <td>0</td>\n",
       "      <td>0</td>\n",
       "    </tr>\n",
       "    <tr>\n",
       "      <th>1</th>\n",
       "      <td>44</td>\n",
       "      <td>29</td>\n",
       "      <td>5</td>\n",
       "      <td>151</td>\n",
       "      <td>1</td>\n",
       "      <td>-1</td>\n",
       "      <td>0</td>\n",
       "      <td>0</td>\n",
       "    </tr>\n",
       "    <tr>\n",
       "      <th>2</th>\n",
       "      <td>33</td>\n",
       "      <td>2</td>\n",
       "      <td>5</td>\n",
       "      <td>76</td>\n",
       "      <td>1</td>\n",
       "      <td>-1</td>\n",
       "      <td>0</td>\n",
       "      <td>0</td>\n",
       "    </tr>\n",
       "    <tr>\n",
       "      <th>3</th>\n",
       "      <td>47</td>\n",
       "      <td>1506</td>\n",
       "      <td>5</td>\n",
       "      <td>92</td>\n",
       "      <td>1</td>\n",
       "      <td>-1</td>\n",
       "      <td>0</td>\n",
       "      <td>0</td>\n",
       "    </tr>\n",
       "    <tr>\n",
       "      <th>4</th>\n",
       "      <td>33</td>\n",
       "      <td>1</td>\n",
       "      <td>5</td>\n",
       "      <td>198</td>\n",
       "      <td>1</td>\n",
       "      <td>-1</td>\n",
       "      <td>0</td>\n",
       "      <td>0</td>\n",
       "    </tr>\n",
       "    <tr>\n",
       "      <th>5</th>\n",
       "      <td>35</td>\n",
       "      <td>231</td>\n",
       "      <td>5</td>\n",
       "      <td>139</td>\n",
       "      <td>1</td>\n",
       "      <td>-1</td>\n",
       "      <td>0</td>\n",
       "      <td>0</td>\n",
       "    </tr>\n",
       "    <tr>\n",
       "      <th>6</th>\n",
       "      <td>28</td>\n",
       "      <td>447</td>\n",
       "      <td>5</td>\n",
       "      <td>217</td>\n",
       "      <td>1</td>\n",
       "      <td>-1</td>\n",
       "      <td>0</td>\n",
       "      <td>0</td>\n",
       "    </tr>\n",
       "    <tr>\n",
       "      <th>7</th>\n",
       "      <td>42</td>\n",
       "      <td>2</td>\n",
       "      <td>5</td>\n",
       "      <td>380</td>\n",
       "      <td>1</td>\n",
       "      <td>-1</td>\n",
       "      <td>0</td>\n",
       "      <td>0</td>\n",
       "    </tr>\n",
       "    <tr>\n",
       "      <th>8</th>\n",
       "      <td>58</td>\n",
       "      <td>121</td>\n",
       "      <td>5</td>\n",
       "      <td>50</td>\n",
       "      <td>1</td>\n",
       "      <td>-1</td>\n",
       "      <td>0</td>\n",
       "      <td>0</td>\n",
       "    </tr>\n",
       "    <tr>\n",
       "      <th>9</th>\n",
       "      <td>43</td>\n",
       "      <td>593</td>\n",
       "      <td>5</td>\n",
       "      <td>55</td>\n",
       "      <td>1</td>\n",
       "      <td>-1</td>\n",
       "      <td>0</td>\n",
       "      <td>0</td>\n",
       "    </tr>\n",
       "  </tbody>\n",
       "</table>\n",
       "</div>"
      ],
      "text/plain": [
       "   age  balance  day  duration  campaign  pdays  previous  [col]_encoded\n",
       "0   58     2143    5       261         1     -1         0              0\n",
       "1   44       29    5       151         1     -1         0              0\n",
       "2   33        2    5        76         1     -1         0              0\n",
       "3   47     1506    5        92         1     -1         0              0\n",
       "4   33        1    5       198         1     -1         0              0\n",
       "5   35      231    5       139         1     -1         0              0\n",
       "6   28      447    5       217         1     -1         0              0\n",
       "7   42        2    5       380         1     -1         0              0\n",
       "8   58      121    5        50         1     -1         0              0\n",
       "9   43      593    5        55         1     -1         0              0"
      ]
     },
     "execution_count": 87,
     "metadata": {},
     "output_type": "execute_result"
    }
   ],
   "source": [
    "#DEALING WITH CATEGORICAL COLUMNS \n",
    "label_encoder = LabelEncoder()\n",
    "categorical_cols = Customers.select_dtypes(include=['object']).columns.tolist()\n",
    "\n",
    "for col in categorical_cols:\n",
    "    Customers[f\"[col]_encoded\"] = label_encoder.fit_transform(Customers[col])\n",
    "    \n",
    "#Dropping the original categorical columns\n",
    "Customers.drop(categorical_cols, axis=1, inplace=True)\n",
    "\n",
    "Customers.head(10)"
   ]
  },
  {
   "cell_type": "markdown",
   "id": "a2af572b",
   "metadata": {},
   "source": [
    "### MACHINE LEARNING MODEL DEVELOPMENT"
   ]
  },
  {
   "cell_type": "code",
   "execution_count": 88,
   "id": "6f6406ab",
   "metadata": {},
   "outputs": [
    {
     "name": "stdout",
     "output_type": "stream",
     "text": [
      "   age  balance  day  duration  campaign  pdays  previous  [col]_encoded\n",
      "0   58     2143    5       261         1     -1         0              0\n",
      "1   44       29    5       151         1     -1         0              0\n",
      "2   33        2    5        76         1     -1         0              0\n",
      "3   47     1506    5        92         1     -1         0              0\n",
      "4   33        1    5       198         1     -1         0              0\n",
      "   age  balance  day  duration  campaign  pdays  previous\n",
      "0   58     2143    5       261         1     -1         0\n",
      "1   44       29    5       151         1     -1         0\n",
      "2   33        2    5        76         1     -1         0\n",
      "3   47     1506    5        92         1     -1         0\n",
      "4   33        1    5       198         1     -1         0\n",
      "0    0\n",
      "1    0\n",
      "2    0\n",
      "3    0\n",
      "4    0\n",
      "Name: [col]_encoded, dtype: int32\n"
     ]
    }
   ],
   "source": [
    "# Check column names again to identify the target column\n",
    "print(Customers.head())\n",
    "\n",
    "# Adjust X and y based on the actual target column name\n",
    "X = Customers.drop(\"[col]_encoded\", axis=1)  # Replace with the actual target column name if renamed\n",
    "y = Customers[\"[col]_encoded\"]               # Same here\n",
    "\n",
    "# Verify that X and y are correctly defined\n",
    "print(X.head())\n",
    "print(y.head())\n"
   ]
  },
  {
   "cell_type": "code",
   "execution_count": null,
   "id": "6a3bebcc",
   "metadata": {},
   "outputs": [],
   "source": []
  },
  {
   "cell_type": "markdown",
   "id": "e86493f1",
   "metadata": {},
   "source": [
    "FEATURE SCALING"
   ]
  },
  {
   "cell_type": "code",
   "execution_count": 89,
   "id": "db48d30f",
   "metadata": {},
   "outputs": [],
   "source": [
    "#INITIALIZE THE STANDARD SCALER \n",
    "scaler = StandardScaler()\n",
    "X_scaled = scaler.fit_transform(X)"
   ]
  },
  {
   "cell_type": "code",
   "execution_count": null,
   "id": "57919fe2",
   "metadata": {},
   "outputs": [],
   "source": []
  },
  {
   "cell_type": "markdown",
   "id": "b925ca79",
   "metadata": {},
   "source": [
    "TRAIN-TEST SPLIT"
   ]
  },
  {
   "cell_type": "code",
   "execution_count": 90,
   "id": "346d5c26",
   "metadata": {},
   "outputs": [],
   "source": [
    "X_train, X_test, y_train, y_test = train_test_split(X_scaled, y, test_size=0.2, random_state=42)"
   ]
  },
  {
   "cell_type": "code",
   "execution_count": 93,
   "id": "5bd17032",
   "metadata": {},
   "outputs": [],
   "source": [
    "#INITIALIZING THE MODEL\n",
    "dt_classifier = DecisionTreeClassifier(random_state=42)\n",
    "\n",
    "#FITTING MODEL TO THE TRAINING DATA\n",
    "dt_classifier.fit(X_train, y_train)\n",
    "\n",
    "#PREDICTIONS\n",
    "y_pred = dt_classifier.predict(X_test)"
   ]
  },
  {
   "cell_type": "code",
   "execution_count": null,
   "id": "a1683aac",
   "metadata": {},
   "outputs": [],
   "source": []
  },
  {
   "cell_type": "markdown",
   "id": "4fe2a780",
   "metadata": {},
   "source": [
    "HYPERPARAMETER TUNING USING GRID-SEARCH"
   ]
  },
  {
   "cell_type": "code",
   "execution_count": 95,
   "id": "4d18e9a3",
   "metadata": {},
   "outputs": [],
   "source": [
    "param_grid = {\n",
    "    \"max_depth\": [3, 5, 10, None], \n",
    "    \"min_samples_split\": [2, 5, 10],\n",
    "    \"min_samples_leaf\": [1, 2, 4]\n",
    "}\n",
    "\n",
    "\n",
    "grid_search = GridSearchCV(estimator = dt_classifier, param_grid =param_grid, cv=5, scoring =\"accuracy\")\n",
    "grid_search.fit(X_train, y_train)\n",
    "\n",
    "#DETERMINING BEST PARAMETERS\n",
    "best_dt = grid_search.best_estimator_"
   ]
  },
  {
   "cell_type": "code",
   "execution_count": null,
   "id": "75fa9b30",
   "metadata": {},
   "outputs": [],
   "source": []
  },
  {
   "cell_type": "markdown",
   "id": "1ec25122",
   "metadata": {},
   "source": [
    "MODEL EVALUATION"
   ]
  },
  {
   "cell_type": "code",
   "execution_count": 96,
   "id": "22393b0c",
   "metadata": {},
   "outputs": [
    {
     "name": "stdout",
     "output_type": "stream",
     "text": [
      "Accuracy: 84.83\n"
     ]
    }
   ],
   "source": [
    "#ACCURACY\n",
    "accuracy = accuracy_score(y_test, y_pred)\n",
    "print(f\"Accuracy: {accuracy * 100:.2f}\")"
   ]
  },
  {
   "cell_type": "code",
   "execution_count": 97,
   "id": "4b129c9a",
   "metadata": {},
   "outputs": [
    {
     "data": {
      "text/plain": [
       "<Axes: >"
      ]
     },
     "execution_count": 97,
     "metadata": {},
     "output_type": "execute_result"
    },
    {
     "data": {
      "image/png": "[encoded data removed]",
      "text/plain": [
       "<Figure size 640x480 with 2 Axes>"
      ]
     },
     "metadata": {},
     "output_type": "display_data"
    }
   ],
   "source": [
    "#DISPLAYING AND VISUALIZING THE CONFUSION MATRIX\n",
    "conf_matrix = confusion_matrix(y_test, y_pred)\n",
    "sns.heatmap(conf_matrix, annot=True, fmt=\"d\", cmap=\"Blues\")"
   ]
  },
  {
   "cell_type": "code",
   "execution_count": 98,
   "id": "24e269d6",
   "metadata": {},
   "outputs": [
    {
     "name": "stdout",
     "output_type": "stream",
     "text": [
      "              precision    recall  f1-score   support\n",
      "\n",
      "           0       0.92      0.91      0.91      7952\n",
      "           1       0.38      0.41      0.39      1091\n",
      "\n",
      "    accuracy                           0.85      9043\n",
      "   macro avg       0.65      0.66      0.65      9043\n",
      "weighted avg       0.85      0.85      0.85      9043\n",
      "\n"
     ]
    }
   ],
   "source": [
    "#CLASSIFICATION REPORT\n",
    "print(classification_report(y_test, y_pred))"
   ]
  },
  {
   "cell_type": "code",
   "execution_count": 99,
   "id": "0f27c48f",
   "metadata": {},
   "outputs": [
    {
     "data": {
      "image/png": "[encoded data removed]",
      "text/plain": [
       "<Figure size 640x480 with 1 Axes>"
      ]
     },
     "metadata": {},
     "output_type": "display_data"
    }
   ],
   "source": [
    "#VISUALIZATION OF THE ROC CURVE\n",
    "fpr, tpr, threshold = roc_curve(y_test, best_dt.predict_proba(X_test)[:, 1])\n",
    "roc_auc = auc(fpr,tpr)\n",
    "\n",
    "plt.plot(fpr, tpr, label= f\"ROC Curve(area = {roc_auc:.2f})\")\n",
    "plt.plot([0,1], [0,1], \"k--\")\n",
    "plt.xlabel(\"False Positive Rate\")\n",
    "plt.xlabel(\"True Positive Rate\")\n",
    "\n",
    "plt.title(\"ROC Curve\")\n",
    "plt.legend()\n",
    "\n",
    "plt.show()"
   ]
  },
  {
   "cell_type": "code",
   "execution_count": null,
   "id": "6a413eb2",
   "metadata": {},
   "outputs": [],
   "source": []
  },
  {
   "cell_type": "markdown",
   "id": "bbae224a",
   "metadata": {},
   "source": [
    "CORRELATION OF THE DATASET"
   ]
  },
  {
   "cell_type": "code",
   "execution_count": 100,
   "id": "3fbf6f3c",
   "metadata": {},
   "outputs": [
    {
     "data": {
      "text/html": [
       "<div>\n",
       "<style scoped>\n",
       "    .dataframe tbody tr th:only-of-type {\n",
       "        vertical-align: middle;\n",
       "    }\n",
       "\n",
       "    .dataframe tbody tr th {\n",
       "        vertical-align: top;\n",
       "    }\n",
       "\n",
       "    .dataframe thead th {\n",
       "        text-align: right;\n",
       "    }\n",
       "</style>\n",
       "<table border=\"1\" class=\"dataframe\">\n",
       "  <thead>\n",
       "    <tr style=\"text-align: right;\">\n",
       "      <th></th>\n",
       "      <th>age</th>\n",
       "      <th>balance</th>\n",
       "      <th>day</th>\n",
       "      <th>duration</th>\n",
       "      <th>campaign</th>\n",
       "      <th>pdays</th>\n",
       "      <th>previous</th>\n",
       "      <th>[col]_encoded</th>\n",
       "    </tr>\n",
       "  </thead>\n",
       "  <tbody>\n",
       "    <tr>\n",
       "      <th>age</th>\n",
       "      <td>1.000000</td>\n",
       "      <td>0.097783</td>\n",
       "      <td>-0.009120</td>\n",
       "      <td>-0.004648</td>\n",
       "      <td>0.004760</td>\n",
       "      <td>-0.023758</td>\n",
       "      <td>0.001288</td>\n",
       "      <td>0.025155</td>\n",
       "    </tr>\n",
       "    <tr>\n",
       "      <th>balance</th>\n",
       "      <td>0.097783</td>\n",
       "      <td>1.000000</td>\n",
       "      <td>0.004503</td>\n",
       "      <td>0.021560</td>\n",
       "      <td>-0.014578</td>\n",
       "      <td>0.003435</td>\n",
       "      <td>0.016674</td>\n",
       "      <td>0.052838</td>\n",
       "    </tr>\n",
       "    <tr>\n",
       "      <th>day</th>\n",
       "      <td>-0.009120</td>\n",
       "      <td>0.004503</td>\n",
       "      <td>1.000000</td>\n",
       "      <td>-0.030206</td>\n",
       "      <td>0.162490</td>\n",
       "      <td>-0.093044</td>\n",
       "      <td>-0.051710</td>\n",
       "      <td>-0.028348</td>\n",
       "    </tr>\n",
       "    <tr>\n",
       "      <th>duration</th>\n",
       "      <td>-0.004648</td>\n",
       "      <td>0.021560</td>\n",
       "      <td>-0.030206</td>\n",
       "      <td>1.000000</td>\n",
       "      <td>-0.084570</td>\n",
       "      <td>-0.001565</td>\n",
       "      <td>0.001203</td>\n",
       "      <td>0.394521</td>\n",
       "    </tr>\n",
       "    <tr>\n",
       "      <th>campaign</th>\n",
       "      <td>0.004760</td>\n",
       "      <td>-0.014578</td>\n",
       "      <td>0.162490</td>\n",
       "      <td>-0.084570</td>\n",
       "      <td>1.000000</td>\n",
       "      <td>-0.088628</td>\n",
       "      <td>-0.032855</td>\n",
       "      <td>-0.073172</td>\n",
       "    </tr>\n",
       "    <tr>\n",
       "      <th>pdays</th>\n",
       "      <td>-0.023758</td>\n",
       "      <td>0.003435</td>\n",
       "      <td>-0.093044</td>\n",
       "      <td>-0.001565</td>\n",
       "      <td>-0.088628</td>\n",
       "      <td>1.000000</td>\n",
       "      <td>0.454820</td>\n",
       "      <td>0.103621</td>\n",
       "    </tr>\n",
       "    <tr>\n",
       "      <th>previous</th>\n",
       "      <td>0.001288</td>\n",
       "      <td>0.016674</td>\n",
       "      <td>-0.051710</td>\n",
       "      <td>0.001203</td>\n",
       "      <td>-0.032855</td>\n",
       "      <td>0.454820</td>\n",
       "      <td>1.000000</td>\n",
       "      <td>0.093236</td>\n",
       "    </tr>\n",
       "    <tr>\n",
       "      <th>[col]_encoded</th>\n",
       "      <td>0.025155</td>\n",
       "      <td>0.052838</td>\n",
       "      <td>-0.028348</td>\n",
       "      <td>0.394521</td>\n",
       "      <td>-0.073172</td>\n",
       "      <td>0.103621</td>\n",
       "      <td>0.093236</td>\n",
       "      <td>1.000000</td>\n",
       "    </tr>\n",
       "  </tbody>\n",
       "</table>\n",
       "</div>"
      ],
      "text/plain": [
       "                    age   balance       day  duration  campaign     pdays  \\\n",
       "age            1.000000  0.097783 -0.009120 -0.004648  0.004760 -0.023758   \n",
       "balance        0.097783  1.000000  0.004503  0.021560 -0.014578  0.003435   \n",
       "day           -0.009120  0.004503  1.000000 -0.030206  0.162490 -0.093044   \n",
       "duration      -0.004648  0.021560 -0.030206  1.000000 -0.084570 -0.001565   \n",
       "campaign       0.004760 -0.014578  0.162490 -0.084570  1.000000 -0.088628   \n",
       "pdays         -0.023758  0.003435 -0.093044 -0.001565 -0.088628  1.000000   \n",
       "previous       0.001288  0.016674 -0.051710  0.001203 -0.032855  0.454820   \n",
       "[col]_encoded  0.025155  0.052838 -0.028348  0.394521 -0.073172  0.103621   \n",
       "\n",
       "               previous  [col]_encoded  \n",
       "age            0.001288       0.025155  \n",
       "balance        0.016674       0.052838  \n",
       "day           -0.051710      -0.028348  \n",
       "duration       0.001203       0.394521  \n",
       "campaign      -0.032855      -0.073172  \n",
       "pdays          0.454820       0.103621  \n",
       "previous       1.000000       0.093236  \n",
       "[col]_encoded  0.093236       1.000000  "
      ]
     },
     "execution_count": 100,
     "metadata": {},
     "output_type": "execute_result"
    }
   ],
   "source": [
    "Customers.corr()"
   ]
  },
  {
   "cell_type": "code",
   "execution_count": 101,
   "id": "76886c85",
   "metadata": {},
   "outputs": [
    {
     "data": {
      "image/png": "[encoded data removed]",
      "text/plain": [
       "<Figure size 1200x800 with 2 Axes>"
      ]
     },
     "metadata": {},
     "output_type": "display_data"
    }
   ],
   "source": [
    "#CORRELATION HEATMAP\n",
    "plt.figure(figsize =(12,8))\n",
    "sns.heatmap(Customers.corr(), annot=True, cmap='coolwarm', fmt='.2f', linewidths=0.5)\n",
    "plt.title('Correlation Matrix of Customers Dataset')\n",
    "\n",
    "plt.show()"
   ]
  },
  {
   "cell_type": "code",
   "execution_count": null,
   "id": "bff4099c",
   "metadata": {},
   "outputs": [],
   "source": []
  },
  {
   "cell_type": "markdown",
   "id": "7c1ed759",
   "metadata": {},
   "source": [
    "## CONCLUSION"
   ]
  },
  {
   "cell_type": "markdown",
   "id": "33b04c6e",
   "metadata": {},
   "source": [
    "### Key Steps in the Project:\n",
    "\n",
    "1. Data Loading & Exploration:\n",
    "\n",
    "Loaded and explored the dataset, checking for duplicates and missing values, which were not present.\n",
    "Displayed summary statistics of the dataset.\n",
    "\n",
    "2. Data Cleaning & Preprocessing:\n",
    "\n",
    "Encoded categorical features using LabelEncoder and dropped the original categorical columns.\n",
    "Performed feature scaling using StandardScaler to normalize the data.\n",
    "\n",
    "3. Model Building:\n",
    "\n",
    "Split the data into training and testing sets.\n",
    "Applied the Decision Tree Classifier and trained the model on the training set.\n",
    "\n",
    "4. Hyperparameter Tuning:\n",
    "\n",
    "Used GridSearchCV to tune hyperparameters like max_depth, min_samples_split, and min_samples_leaf.\n",
    "\n",
    "5. Model Evaluation:\n",
    "\n",
    "Achieved an accuracy of 84.83%.\n",
    "Visualized the confusion matrix and classification report to evaluate model performance, with precision, recall, and F1-score.\n",
    "Plotted the ROC curve for additional evaluation.\n",
    "\n",
    "\n",
    "### Possible Improvements:\n",
    "Class Imbalance: Based on the classification report, there's an imbalance between classes (0: no purchase vs. 1: purchase). \n",
    "\n",
    "This can be addressed by techniques such as oversampling the minority class (SMOTE) or using class weights in the Decision Tree model.\n",
    "\n",
    "Feature Engineering: You can try adding more derived features that might capture interactions between variables, like age groups, or using domain knowledge to create new features that could improve the model.\n",
    "\n",
    "Model Evaluation Metrics: Accuracy alone might not be the best metric in this case due to the class imbalance. \n",
    "You could focus on precision-recall curves or AUC scores for a more nuanced performance evaluation.\n",
    "\n",
    "Tree Visualization: You can visualize the Decision Tree to understand how the model is making decisions. \n",
    "This can be done using plot_tree from sklearn.tree or other visualization libraries."
   ]
  },
  {
   "cell_type": "code",
   "execution_count": null,
   "id": "49f2f37b",
   "metadata": {},
   "outputs": [],
   "source": []
  },
  {
   "cell_type": "code",
   "execution_count": null,
   "id": "6698ce53",
   "metadata": {},
   "outputs": [],
   "source": []
  }
 ],
 "metadata": {
  "kernelspec": {
   "display_name": "Python 3 (ipykernel)",
   "language": "python",
   "name": "python3"
  },
  "language_info": {
   "codemirror_mode": {
    "name": "ipython",
    "version": 3
   },
   "file_extension": ".py",
   "mimetype": "text/x-python",
   "name": "python",
   "nbconvert_exporter": "python",
   "pygments_lexer": "ipython3",
   "version": "3.11.5"
  }
 },
 "nbformat": 4,
 "nbformat_minor": 5
}
